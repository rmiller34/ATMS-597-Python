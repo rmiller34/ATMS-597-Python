{
  "nbformat": 4,
  "nbformat_minor": 0,
  "metadata": {
    "colab": {
      "name": "ATMS-597-Project-1.ipynb",
      "provenance": [],
      "authorship_tag": "ABX9TyNnkfGwq7Cr/dzpo1N1KtVX",
      "include_colab_link": true
    },
    "kernelspec": {
      "name": "python3",
      "display_name": "Python 3"
    }
  },
  "cells": [
    {
      "cell_type": "markdown",
      "metadata": {
        "id": "view-in-github",
        "colab_type": "text"
      },
      "source": [
        "<a href=\"https://colab.research.google.com/github/rmiller34/ATMS-597-Python/blob/master/ATMS_597_Project_1.ipynb\" target=\"_parent\"><img src=\"https://colab.research.google.com/assets/colab-badge.svg\" alt=\"Open In Colab\"/></a>"
      ]
    },
    {
      "cell_type": "markdown",
      "metadata": {
        "id": "KnNoTce5eqR-",
        "colab_type": "text"
      },
      "source": [
        "ATMS-597-SP-2020 Project 1\n",
        "Task: Create an object-oriented python module that converts temperatures interchangeably between degrees Celsius, Fahrenheit, and Kelvin.\n",
        "\n",
        "Group Members:Jeffrey Thayer, Carolina Bieri, Rose Miller\n",
        "\n"
      ]
    },
    {
      "cell_type": "code",
      "metadata": {
        "id": "kt-yPTgxeDe6",
        "colab_type": "code",
        "colab": {}
      },
      "source": [
        "#ATMS-597-Project"
      ],
      "execution_count": 0,
      "outputs": []
    }
  ]
}